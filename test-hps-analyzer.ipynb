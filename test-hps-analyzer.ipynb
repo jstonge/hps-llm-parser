{
 "cells": [
  {
   "cell_type": "markdown",
   "metadata": {},
   "source": [
    "# Testing HPS Analyzer\n",
    "\n",
    "This notebook tests the HPS analyzer with your existing data."
   ]
  },
  {
   "cell_type": "code",
   "execution_count": 2,
   "metadata": {},
   "outputs": [],
   "source": [
    "# Import the HPS analyzer\n",
    "from hps_analyzer import HPSAnalyzer\n",
    "import outlines\n",
    "from transformers import AutoTokenizer, AutoModelForCausalLM\n",
    "from pathlib import Path"
   ]
  },
  {
   "cell_type": "code",
   "execution_count": 3,
   "metadata": {},
   "outputs": [
    {
     "data": {
      "application/vnd.jupyter.widget-view+json": {
       "model_id": "b88af299aeb743dd98e9f76bde6584f7",
       "version_major": 2,
       "version_minor": 0
      },
      "text/plain": [
       "Loading checkpoint shards:   0%|          | 0/2 [00:00<?, ?it/s]"
      ]
     },
     "metadata": {},
     "output_type": "display_data"
    },
    {
     "name": "stdout",
     "output_type": "stream",
     "text": [
      "Model loaded successfully!\n"
     ]
    }
   ],
   "source": [
    "# Load your model (same as before)\n",
    "model_path = \"/gpfs1/llm/llama-3.2-hf/Meta-Llama-3.2-3B-Instruct\"\n",
    "\n",
    "model = outlines.models.transformers(\n",
    "    model_path,\n",
    "    device=\"cuda\"\n",
    ")\n",
    "\n",
    "tokenizer = AutoTokenizer.from_pretrained(model_path)\n",
    "print(\"Model loaded successfully!\")"
   ]
  },
  {
   "cell_type": "code",
   "execution_count": 5,
   "metadata": {},
   "outputs": [
    {
     "name": "stdout",
     "output_type": "stream",
     "text": [
      "HPS Analyzer initialized!\n"
     ]
    }
   ],
   "source": [
    "# Initialize the HPS analyzer\n",
    "analyzer = HPSAnalyzer(\n",
    "    model=model,\n",
    "    tokenizer=tokenizer,\n",
    "    token_max=1500,  # Adjust based on your model's capabilities\n",
    "    chunk_size=300   # Words per chunk for long texts\n",
    ")\n",
    "\n",
    "print(\"HPS Analyzer initialized!\")"
   ]
  },
  {
   "cell_type": "code",
   "execution_count": 6,
   "metadata": {},
   "outputs": [
    {
     "name": "stdout",
     "output_type": "stream",
     "text": [
      "Loaded page 20: 3132 characters\n",
      "First 300 characters: <p>The Information</p>\n",
      "<p>horizon. Whether Ong would have seen cyberspace as fundamentally oral or literary, he would surely have recognized it as transformative: not just a revitalization of older forms, not just an amplification, but something wholly new. He might have sensed a coming discontinuit...\n"
     ]
    }
   ],
   "source": [
    "# Load your existing data\n",
    "DATA_DIR = Path(\"./data/gleick2011/pages\")\n",
    "\n",
    "# Load page 20 content\n",
    "with open(DATA_DIR / \"20.md\", 'r', encoding='utf-8') as f:\n",
    "    page_20_content = f.read()\n",
    "\n",
    "print(f\"Loaded page 20: {len(page_20_content)} characters\")\n",
    "print(f\"First 300 characters: {page_20_content[:300]}...\")"
   ]
  },
  {
   "cell_type": "code",
   "execution_count": 7,
   "metadata": {},
   "outputs": [
    {
     "name": "stderr",
     "output_type": "stream",
     "text": [
      "The following generation flags are not valid and may be ignored: ['temperature']. Set `TRANSFORMERS_VERBOSITY=info` for more details.\n",
      "The following generation flags are not valid and may be ignored: ['temperature']. Set `TRANSFORMERS_VERBOSITY=info` for more details.\n"
     ]
    },
    {
     "name": "stdout",
     "output_type": "stream",
     "text": [
      "\n",
      "============================================================\n",
      "ANALYZING PAGE 20 FROM GLEICK 2011\n",
      "============================================================\n"
     ]
    },
    {
     "data": {
      "text/html": [
       "<pre style=\"white-space:pre;overflow-x:auto;line-height:normal;font-family:Menlo,'DejaVu Sans Mono',consolas,'Courier New',monospace\"><span style=\"color: #000080; text-decoration-color: #000080\">╭─────────────────────────────────────────────────────────────────────────────────────────────────────────────────╮</span>\n",
       "<span style=\"color: #000080; text-decoration-color: #000080\">│</span> <span style=\"color: #000080; text-decoration-color: #000080; font-weight: bold\">HPS Chapter Analysis Report</span>                                                                                     <span style=\"color: #000080; text-decoration-color: #000080\">│</span>\n",
       "<span style=\"color: #000080; text-decoration-color: #000080\">│</span> <span style=\"color: #008080; text-decoration-color: #008080\">2025-08-11 09:34:12</span>                                                                                             <span style=\"color: #000080; text-decoration-color: #000080\">│</span>\n",
       "<span style=\"color: #000080; text-decoration-color: #000080\">╰─────────────────────────────────────────────────────────────────────────────────────────────────────────────────╯</span>\n",
       "</pre>\n"
      ],
      "text/plain": [
       "\u001b[34m╭─────────────────────────────────────────────────────────────────────────────────────────────────────────────────╮\u001b[0m\n",
       "\u001b[34m│\u001b[0m \u001b[1;34mHPS Chapter Analysis Report\u001b[0m                                                                                     \u001b[34m│\u001b[0m\n",
       "\u001b[34m│\u001b[0m \u001b[36m2025-08-11 09:34:12\u001b[0m                                                                                             \u001b[34m│\u001b[0m\n",
       "\u001b[34m╰─────────────────────────────────────────────────────────────────────────────────────────────────────────────────╯\u001b[0m\n"
      ]
     },
     "metadata": {},
     "output_type": "display_data"
    },
    {
     "data": {
      "text/html": [
       "<pre style=\"white-space:pre;overflow-x:auto;line-height:normal;font-family:Menlo,'DejaVu Sans Mono',consolas,'Courier New',monospace\"><span style=\"color: #008080; text-decoration-color: #008080\">╭─────────────────────────────────────────────────── </span><span style=\"color: #008080; text-decoration-color: #008080; font-weight: bold\">Overview</span><span style=\"color: #008080; text-decoration-color: #008080\"> ────────────────────────────────────────────────────╮</span>\n",
       "<span style=\"color: #008080; text-decoration-color: #008080\">│</span> <span style=\"color: #c0c0c0; text-decoration-color: #c0c0c0; font-weight: bold\">Main Thesis:</span>                                                                                                    <span style=\"color: #008080; text-decoration-color: #008080\">│</span>\n",
       "<span style=\"color: #008080; text-decoration-color: #008080\">│</span> <span style=\"color: #008080; text-decoration-color: #008080\">not specified</span>                                                                                                   <span style=\"color: #008080; text-decoration-color: #008080\">│</span>\n",
       "<span style=\"color: #008080; text-decoration-color: #008080\">│</span>                                                                                                                 <span style=\"color: #008080; text-decoration-color: #008080\">│</span>\n",
       "<span style=\"color: #008080; text-decoration-color: #008080\">│</span> <span style=\"color: #c0c0c0; text-decoration-color: #c0c0c0; font-weight: bold\">Summary:</span>                                                                                                        <span style=\"color: #008080; text-decoration-color: #008080\">│</span>\n",
       "<span style=\"color: #008080; text-decoration-color: #008080\">│</span> <span style=\"color: #008080; text-decoration-color: #008080\">The text discusses the transformative nature of the information horizon, particularly in relation to the </span>       <span style=\"color: #008080; text-decoration-color: #008080\">│</span>\n",
       "<span style=\"color: #008080; text-decoration-color: #008080\">│</span> <span style=\"color: #008080; text-decoration-color: #008080\">emergence of literacy and the impact of writing on human thought. It critiques the notion of </span>                   <span style=\"color: #008080; text-decoration-color: #008080\">│</span>\n",
       "<span style=\"color: #008080; text-decoration-color: #008080\">│</span>                                                                                                                 <span style=\"color: #008080; text-decoration-color: #008080\">│</span>\n",
       "<span style=\"color: #008080; text-decoration-color: #008080\">│</span> <span style=\"color: #c0c0c0; text-decoration-color: #c0c0c0; font-weight: bold\">Complexity Score:</span> <span style=\"color: #808000; text-decoration-color: #808000\">50%</span>                                                                                           <span style=\"color: #008080; text-decoration-color: #008080\">│</span>\n",
       "<span style=\"color: #008080; text-decoration-color: #008080\">│</span> <span style=\"color: #c0c0c0; text-decoration-color: #c0c0c0; font-weight: bold\">Primary Fields:</span>                                                                                                 <span style=\"color: #008080; text-decoration-color: #008080\">│</span>\n",
       "<span style=\"color: #008080; text-decoration-color: #008080\">╰─────────────────────────────────────────────────────────────────────────────────────────────────────────────────╯</span>\n",
       "</pre>\n"
      ],
      "text/plain": [
       "\u001b[36m╭─\u001b[0m\u001b[36m──────────────────────────────────────────────────\u001b[0m\u001b[36m \u001b[0m\u001b[1;36mOverview\u001b[0m\u001b[36m \u001b[0m\u001b[36m───────────────────────────────────────────────────\u001b[0m\u001b[36m─╮\u001b[0m\n",
       "\u001b[36m│\u001b[0m \u001b[1;37mMain Thesis:\u001b[0m                                                                                                    \u001b[36m│\u001b[0m\n",
       "\u001b[36m│\u001b[0m \u001b[36mnot specified\u001b[0m                                                                                                   \u001b[36m│\u001b[0m\n",
       "\u001b[36m│\u001b[0m                                                                                                                 \u001b[36m│\u001b[0m\n",
       "\u001b[36m│\u001b[0m \u001b[1;37mSummary:\u001b[0m                                                                                                        \u001b[36m│\u001b[0m\n",
       "\u001b[36m│\u001b[0m \u001b[36mThe text discusses the transformative nature of the information horizon, particularly in relation to the \u001b[0m       \u001b[36m│\u001b[0m\n",
       "\u001b[36m│\u001b[0m \u001b[36memergence of literacy and the impact of writing on human thought. It critiques the notion of \u001b[0m                   \u001b[36m│\u001b[0m\n",
       "\u001b[36m│\u001b[0m                                                                                                                 \u001b[36m│\u001b[0m\n",
       "\u001b[36m│\u001b[0m \u001b[1;37mComplexity Score:\u001b[0m \u001b[33m50%\u001b[0m                                                                                           \u001b[36m│\u001b[0m\n",
       "\u001b[36m│\u001b[0m \u001b[1;37mPrimary Fields:\u001b[0m                                                                                                 \u001b[36m│\u001b[0m\n",
       "\u001b[36m╰─────────────────────────────────────────────────────────────────────────────────────────────────────────────────╯\u001b[0m\n"
      ]
     },
     "metadata": {},
     "output_type": "display_data"
    },
    {
     "data": {
      "text/html": [
       "<pre style=\"white-space:pre;overflow-x:auto;line-height:normal;font-family:Menlo,'DejaVu Sans Mono',consolas,'Courier New',monospace\">\n",
       "<span style=\"color: #800080; text-decoration-color: #800080; font-weight: bold\">👥 Authors &amp; Scholars (</span><span style=\"color: #800080; text-decoration-color: #800080; font-weight: bold\">4</span><span style=\"color: #800080; text-decoration-color: #800080; font-weight: bold\"> found):</span>\n",
       "</pre>\n"
      ],
      "text/plain": [
       "\n",
       "\u001b[1;35m👥 Authors & Scholars \u001b[0m\u001b[1;35m(\u001b[0m\u001b[1;35m4\u001b[0m\u001b[1;35m found\u001b[0m\u001b[1;35m)\u001b[0m\u001b[1;35m:\u001b[0m\n"
      ]
     },
     "metadata": {},
     "output_type": "display_data"
    },
    {
     "data": {
      "text/html": [
       "<pre style=\"white-space:pre;overflow-x:auto;line-height:normal;font-family:Menlo,'DejaVu Sans Mono',consolas,'Courier New',monospace\">┏━━━━━━━━━━━━━━━━━━━━┳━━━━━━━━━━━━━━━┳━━━━━━━━━━━━━━━┳━━━━━━━━━━━━━━━━━━━━┳━━━━━━━━━━━━━━━━━━━━━━━━━━━━━━━━━━━━━━━┓\n",
       "┃<span style=\"color: #800080; text-decoration-color: #800080; font-weight: bold\"> Name               </span>┃<span style=\"color: #800080; text-decoration-color: #800080; font-weight: bold\"> Role          </span>┃<span style=\"color: #800080; text-decoration-color: #800080; font-weight: bold\"> Period        </span>┃<span style=\"color: #800080; text-decoration-color: #800080; font-weight: bold\"> Place              </span>┃<span style=\"color: #800080; text-decoration-color: #800080; font-weight: bold\"> Description                           </span>┃\n",
       "┡━━━━━━━━━━━━━━━━━━━━╇━━━━━━━━━━━━━━━╇━━━━━━━━━━━━━━━╇━━━━━━━━━━━━━━━━━━━━╇━━━━━━━━━━━━━━━━━━━━━━━━━━━━━━━━━━━━━━━┩\n",
       "│<span style=\"color: #800080; text-decoration-color: #800080\"> W.J.T. Ong         </span>│<span style=\"color: #008080; text-decoration-color: #008080\"> HISTORIAN     </span>│<span style=\"color: #808000; text-decoration-color: #808000\"> not specified </span>│<span style=\"color: #008000; text-decoration-color: #008000\"> not specified      </span>│<span style=\"color: #c0c0c0; text-decoration-color: #c0c0c0\"> not specified                         </span>│\n",
       "├────────────────────┼───────────────┼───────────────┼────────────────────┼───────────────────────────────────────┤\n",
       "│<span style=\"color: #800080; text-decoration-color: #800080\"> Jonathan Miller    </span>│<span style=\"color: #008080; text-decoration-color: #008080\"> PHILOSOPHER   </span>│<span style=\"color: #808000; text-decoration-color: #808000\"> not specified </span>│<span style=\"color: #008000; text-decoration-color: #008000\"> not specified      </span>│<span style=\"color: #c0c0c0; text-decoration-color: #c0c0c0\"> not specified                         </span>│\n",
       "├────────────────────┼───────────────┼───────────────┼────────────────────┼───────────────────────────────────────┤\n",
       "│<span style=\"color: #800080; text-decoration-color: #800080\"> Plato              </span>│<span style=\"color: #008080; text-decoration-color: #008080\"> PHILOSOPHER   </span>│<span style=\"color: #808000; text-decoration-color: #808000\"> not specified </span>│<span style=\"color: #008000; text-decoration-color: #008000\"> not specified      </span>│<span style=\"color: #c0c0c0; text-decoration-color: #c0c0c0\"> not specified                         </span>│\n",
       "├────────────────────┼───────────────┼───────────────┼────────────────────┼───────────────────────────────────────┤\n",
       "│<span style=\"color: #800080; text-decoration-color: #800080\"> Socrates           </span>│<span style=\"color: #008080; text-decoration-color: #008080\"> PHILOSOPHER   </span>│<span style=\"color: #808000; text-decoration-color: #808000\"> not specified </span>│<span style=\"color: #008000; text-decoration-color: #008000\"> not specified      </span>│<span style=\"color: #c0c0c0; text-decoration-color: #c0c0c0\"> not specified                         </span>│\n",
       "└────────────────────┴───────────────┴───────────────┴────────────────────┴───────────────────────────────────────┘\n",
       "</pre>\n"
      ],
      "text/plain": [
       "┏━━━━━━━━━━━━━━━━━━━━┳━━━━━━━━━━━━━━━┳━━━━━━━━━━━━━━━┳━━━━━━━━━━━━━━━━━━━━┳━━━━━━━━━━━━━━━━━━━━━━━━━━━━━━━━━━━━━━━┓\n",
       "┃\u001b[1;35m \u001b[0m\u001b[1;35mName              \u001b[0m\u001b[1;35m \u001b[0m┃\u001b[1;35m \u001b[0m\u001b[1;35mRole         \u001b[0m\u001b[1;35m \u001b[0m┃\u001b[1;35m \u001b[0m\u001b[1;35mPeriod       \u001b[0m\u001b[1;35m \u001b[0m┃\u001b[1;35m \u001b[0m\u001b[1;35mPlace             \u001b[0m\u001b[1;35m \u001b[0m┃\u001b[1;35m \u001b[0m\u001b[1;35mDescription                          \u001b[0m\u001b[1;35m \u001b[0m┃\n",
       "┡━━━━━━━━━━━━━━━━━━━━╇━━━━━━━━━━━━━━━╇━━━━━━━━━━━━━━━╇━━━━━━━━━━━━━━━━━━━━╇━━━━━━━━━━━━━━━━━━━━━━━━━━━━━━━━━━━━━━━┩\n",
       "│\u001b[35m \u001b[0m\u001b[35mW.J.T. Ong        \u001b[0m\u001b[35m \u001b[0m│\u001b[36m \u001b[0m\u001b[36mHISTORIAN    \u001b[0m\u001b[36m \u001b[0m│\u001b[33m \u001b[0m\u001b[33mnot specified\u001b[0m\u001b[33m \u001b[0m│\u001b[32m \u001b[0m\u001b[32mnot specified     \u001b[0m\u001b[32m \u001b[0m│\u001b[37m \u001b[0m\u001b[37mnot specified                        \u001b[0m\u001b[37m \u001b[0m│\n",
       "├────────────────────┼───────────────┼───────────────┼────────────────────┼───────────────────────────────────────┤\n",
       "│\u001b[35m \u001b[0m\u001b[35mJonathan Miller   \u001b[0m\u001b[35m \u001b[0m│\u001b[36m \u001b[0m\u001b[36mPHILOSOPHER  \u001b[0m\u001b[36m \u001b[0m│\u001b[33m \u001b[0m\u001b[33mnot specified\u001b[0m\u001b[33m \u001b[0m│\u001b[32m \u001b[0m\u001b[32mnot specified     \u001b[0m\u001b[32m \u001b[0m│\u001b[37m \u001b[0m\u001b[37mnot specified                        \u001b[0m\u001b[37m \u001b[0m│\n",
       "├────────────────────┼───────────────┼───────────────┼────────────────────┼───────────────────────────────────────┤\n",
       "│\u001b[35m \u001b[0m\u001b[35mPlato             \u001b[0m\u001b[35m \u001b[0m│\u001b[36m \u001b[0m\u001b[36mPHILOSOPHER  \u001b[0m\u001b[36m \u001b[0m│\u001b[33m \u001b[0m\u001b[33mnot specified\u001b[0m\u001b[33m \u001b[0m│\u001b[32m \u001b[0m\u001b[32mnot specified     \u001b[0m\u001b[32m \u001b[0m│\u001b[37m \u001b[0m\u001b[37mnot specified                        \u001b[0m\u001b[37m \u001b[0m│\n",
       "├────────────────────┼───────────────┼───────────────┼────────────────────┼───────────────────────────────────────┤\n",
       "│\u001b[35m \u001b[0m\u001b[35mSocrates          \u001b[0m\u001b[35m \u001b[0m│\u001b[36m \u001b[0m\u001b[36mPHILOSOPHER  \u001b[0m\u001b[36m \u001b[0m│\u001b[33m \u001b[0m\u001b[33mnot specified\u001b[0m\u001b[33m \u001b[0m│\u001b[32m \u001b[0m\u001b[32mnot specified     \u001b[0m\u001b[32m \u001b[0m│\u001b[37m \u001b[0m\u001b[37mnot specified                        \u001b[0m\u001b[37m \u001b[0m│\n",
       "└────────────────────┴───────────────┴───────────────┴────────────────────┴───────────────────────────────────────┘\n"
      ]
     },
     "metadata": {},
     "output_type": "display_data"
    },
    {
     "data": {
      "text/html": [
       "<pre style=\"white-space:pre;overflow-x:auto;line-height:normal;font-family:Menlo,'DejaVu Sans Mono',consolas,'Courier New',monospace\">\n",
       "<span style=\"color: #000080; text-decoration-color: #000080; font-weight: bold\">📚 Works &amp; Publications (</span><span style=\"color: #000080; text-decoration-color: #000080; font-weight: bold\">3</span><span style=\"color: #000080; text-decoration-color: #000080; font-weight: bold\"> found):</span>\n",
       "</pre>\n"
      ],
      "text/plain": [
       "\n",
       "\u001b[1;34m📚 Works & Publications \u001b[0m\u001b[1;34m(\u001b[0m\u001b[1;34m3\u001b[0m\u001b[1;34m found\u001b[0m\u001b[1;34m)\u001b[0m\u001b[1;34m:\u001b[0m\n"
      ]
     },
     "metadata": {},
     "output_type": "display_data"
    },
    {
     "data": {
      "text/html": [
       "<pre style=\"white-space:pre;overflow-x:auto;line-height:normal;font-family:Menlo,'DejaVu Sans Mono',consolas,'Courier New',monospace\">┏━━━━━━━━━━━━━━━━━━━━━━━━━━━┳━━━━━━━━━━━━━━━━━━┳━━━━━━━━━┳━━━━━━━━━━━━━━━━━━┳━━━━━━━━━━━━━━━━━━━━━━━━━━━━━━━━━━━━━┓\n",
       "┃<span style=\"color: #000080; text-decoration-color: #000080; font-weight: bold\"> Title                     </span>┃<span style=\"color: #000080; text-decoration-color: #000080; font-weight: bold\"> Author           </span>┃<span style=\"color: #000080; text-decoration-color: #000080; font-weight: bold\"> Type    </span>┃<span style=\"color: #000080; text-decoration-color: #000080; font-weight: bold\"> Info             </span>┃<span style=\"color: #000080; text-decoration-color: #000080; font-weight: bold\"> Significance                        </span>┃\n",
       "┡━━━━━━━━━━━━━━━━━━━━━━━━━━━╇━━━━━━━━━━━━━━━━━━╇━━━━━━━━━╇━━━━━━━━━━━━━━━━━━╇━━━━━━━━━━━━━━━━━━━━━━━━━━━━━━━━━━━━━┩\n",
       "│<span style=\"color: #000080; text-decoration-color: #000080\"> The Information           </span>│<span style=\"color: #800080; text-decoration-color: #800080\"> W.J.T. Ong       </span>│<span style=\"color: #008080; text-decoration-color: #008080\"> UNKNOWN </span>│<span style=\"color: #808000; text-decoration-color: #808000\"> no specific      </span>│<span style=\"color: #c0c0c0; text-decoration-color: #c0c0c0\"> not specified                       </span>│\n",
       "│<span style=\"color: #000080; text-decoration-color: #000080\">                           </span>│<span style=\"color: #800080; text-decoration-color: #800080\">                  </span>│<span style=\"color: #008080; text-decoration-color: #008080\">         </span>│<span style=\"color: #808000; text-decoration-color: #808000\"> publication      </span>│<span style=\"color: #c0c0c0; text-decoration-color: #c0c0c0\">                                     </span>│\n",
       "│<span style=\"color: #000080; text-decoration-color: #000080\">                           </span>│<span style=\"color: #800080; text-decoration-color: #800080\">                  </span>│<span style=\"color: #008080; text-decoration-color: #008080\">         </span>│<span style=\"color: #808000; text-decoration-color: #808000\"> mentioned        </span>│<span style=\"color: #c0c0c0; text-decoration-color: #c0c0c0\">                                     </span>│\n",
       "├───────────────────────────┼──────────────────┼─────────┼──────────────────┼─────────────────────────────────────┤\n",
       "│<span style=\"color: #000080; text-decoration-color: #000080\"> no specific title         </span>│<span style=\"color: #800080; text-decoration-color: #800080\"> Jonathan Miller  </span>│<span style=\"color: #008080; text-decoration-color: #008080\"> UNKNOWN </span>│<span style=\"color: #808000; text-decoration-color: #808000\"> no specific      </span>│<span style=\"color: #c0c0c0; text-decoration-color: #c0c0c0\"> not specified                       </span>│\n",
       "│<span style=\"color: #000080; text-decoration-color: #000080\"> mentioned                 </span>│<span style=\"color: #800080; text-decoration-color: #800080\">                  </span>│<span style=\"color: #008080; text-decoration-color: #008080\">         </span>│<span style=\"color: #808000; text-decoration-color: #808000\"> publication      </span>│<span style=\"color: #c0c0c0; text-decoration-color: #c0c0c0\">                                     </span>│\n",
       "│<span style=\"color: #000080; text-decoration-color: #000080\">                           </span>│<span style=\"color: #800080; text-decoration-color: #800080\">                  </span>│<span style=\"color: #008080; text-decoration-color: #008080\">         </span>│<span style=\"color: #808000; text-decoration-color: #808000\"> mentioned        </span>│<span style=\"color: #c0c0c0; text-decoration-color: #c0c0c0\">                                     </span>│\n",
       "├───────────────────────────┼──────────────────┼─────────┼──────────────────┼─────────────────────────────────────┤\n",
       "│<span style=\"color: #000080; text-decoration-color: #000080\"> The Republic              </span>│<span style=\"color: #800080; text-decoration-color: #800080\"> Plato            </span>│<span style=\"color: #008080; text-decoration-color: #008080\"> UNKNOWN </span>│<span style=\"color: #808000; text-decoration-color: #808000\"> no specific      </span>│<span style=\"color: #c0c0c0; text-decoration-color: #c0c0c0\"> not specified                       </span>│\n",
       "│<span style=\"color: #000080; text-decoration-color: #000080\">                           </span>│<span style=\"color: #800080; text-decoration-color: #800080\">                  </span>│<span style=\"color: #008080; text-decoration-color: #008080\">         </span>│<span style=\"color: #808000; text-decoration-color: #808000\"> publication      </span>│<span style=\"color: #c0c0c0; text-decoration-color: #c0c0c0\">                                     </span>│\n",
       "│<span style=\"color: #000080; text-decoration-color: #000080\">                           </span>│<span style=\"color: #800080; text-decoration-color: #800080\">                  </span>│<span style=\"color: #008080; text-decoration-color: #008080\">         </span>│<span style=\"color: #808000; text-decoration-color: #808000\"> mentioned        </span>│<span style=\"color: #c0c0c0; text-decoration-color: #c0c0c0\">                                     </span>│\n",
       "└───────────────────────────┴──────────────────┴─────────┴──────────────────┴─────────────────────────────────────┘\n",
       "</pre>\n"
      ],
      "text/plain": [
       "┏━━━━━━━━━━━━━━━━━━━━━━━━━━━┳━━━━━━━━━━━━━━━━━━┳━━━━━━━━━┳━━━━━━━━━━━━━━━━━━┳━━━━━━━━━━━━━━━━━━━━━━━━━━━━━━━━━━━━━┓\n",
       "┃\u001b[1;34m \u001b[0m\u001b[1;34mTitle                    \u001b[0m\u001b[1;34m \u001b[0m┃\u001b[1;34m \u001b[0m\u001b[1;34mAuthor          \u001b[0m\u001b[1;34m \u001b[0m┃\u001b[1;34m \u001b[0m\u001b[1;34mType   \u001b[0m\u001b[1;34m \u001b[0m┃\u001b[1;34m \u001b[0m\u001b[1;34mInfo            \u001b[0m\u001b[1;34m \u001b[0m┃\u001b[1;34m \u001b[0m\u001b[1;34mSignificance                       \u001b[0m\u001b[1;34m \u001b[0m┃\n",
       "┡━━━━━━━━━━━━━━━━━━━━━━━━━━━╇━━━━━━━━━━━━━━━━━━╇━━━━━━━━━╇━━━━━━━━━━━━━━━━━━╇━━━━━━━━━━━━━━━━━━━━━━━━━━━━━━━━━━━━━┩\n",
       "│\u001b[34m \u001b[0m\u001b[34mThe Information          \u001b[0m\u001b[34m \u001b[0m│\u001b[35m \u001b[0m\u001b[35mW.J.T. Ong      \u001b[0m\u001b[35m \u001b[0m│\u001b[36m \u001b[0m\u001b[36mUNKNOWN\u001b[0m\u001b[36m \u001b[0m│\u001b[33m \u001b[0m\u001b[33mno specific     \u001b[0m\u001b[33m \u001b[0m│\u001b[37m \u001b[0m\u001b[37mnot specified                      \u001b[0m\u001b[37m \u001b[0m│\n",
       "│\u001b[34m                           \u001b[0m│\u001b[35m                  \u001b[0m│\u001b[36m         \u001b[0m│\u001b[33m \u001b[0m\u001b[33mpublication     \u001b[0m\u001b[33m \u001b[0m│\u001b[37m                                     \u001b[0m│\n",
       "│\u001b[34m                           \u001b[0m│\u001b[35m                  \u001b[0m│\u001b[36m         \u001b[0m│\u001b[33m \u001b[0m\u001b[33mmentioned       \u001b[0m\u001b[33m \u001b[0m│\u001b[37m                                     \u001b[0m│\n",
       "├───────────────────────────┼──────────────────┼─────────┼──────────────────┼─────────────────────────────────────┤\n",
       "│\u001b[34m \u001b[0m\u001b[34mno specific title        \u001b[0m\u001b[34m \u001b[0m│\u001b[35m \u001b[0m\u001b[35mJonathan Miller \u001b[0m\u001b[35m \u001b[0m│\u001b[36m \u001b[0m\u001b[36mUNKNOWN\u001b[0m\u001b[36m \u001b[0m│\u001b[33m \u001b[0m\u001b[33mno specific     \u001b[0m\u001b[33m \u001b[0m│\u001b[37m \u001b[0m\u001b[37mnot specified                      \u001b[0m\u001b[37m \u001b[0m│\n",
       "│\u001b[34m \u001b[0m\u001b[34mmentioned                \u001b[0m\u001b[34m \u001b[0m│\u001b[35m                  \u001b[0m│\u001b[36m         \u001b[0m│\u001b[33m \u001b[0m\u001b[33mpublication     \u001b[0m\u001b[33m \u001b[0m│\u001b[37m                                     \u001b[0m│\n",
       "│\u001b[34m                           \u001b[0m│\u001b[35m                  \u001b[0m│\u001b[36m         \u001b[0m│\u001b[33m \u001b[0m\u001b[33mmentioned       \u001b[0m\u001b[33m \u001b[0m│\u001b[37m                                     \u001b[0m│\n",
       "├───────────────────────────┼──────────────────┼─────────┼──────────────────┼─────────────────────────────────────┤\n",
       "│\u001b[34m \u001b[0m\u001b[34mThe Republic             \u001b[0m\u001b[34m \u001b[0m│\u001b[35m \u001b[0m\u001b[35mPlato           \u001b[0m\u001b[35m \u001b[0m│\u001b[36m \u001b[0m\u001b[36mUNKNOWN\u001b[0m\u001b[36m \u001b[0m│\u001b[33m \u001b[0m\u001b[33mno specific     \u001b[0m\u001b[33m \u001b[0m│\u001b[37m \u001b[0m\u001b[37mnot specified                      \u001b[0m\u001b[37m \u001b[0m│\n",
       "│\u001b[34m                           \u001b[0m│\u001b[35m                  \u001b[0m│\u001b[36m         \u001b[0m│\u001b[33m \u001b[0m\u001b[33mpublication     \u001b[0m\u001b[33m \u001b[0m│\u001b[37m                                     \u001b[0m│\n",
       "│\u001b[34m                           \u001b[0m│\u001b[35m                  \u001b[0m│\u001b[36m         \u001b[0m│\u001b[33m \u001b[0m\u001b[33mmentioned       \u001b[0m\u001b[33m \u001b[0m│\u001b[37m                                     \u001b[0m│\n",
       "└───────────────────────────┴──────────────────┴─────────┴──────────────────┴─────────────────────────────────────┘\n"
      ]
     },
     "metadata": {},
     "output_type": "display_data"
    },
    {
     "data": {
      "text/html": [
       "<pre style=\"white-space:pre;overflow-x:auto;line-height:normal;font-family:Menlo,'DejaVu Sans Mono',consolas,'Courier New',monospace\">\n",
       "<span style=\"color: #008000; text-decoration-color: #008000; font-weight: bold\">🧠 Concepts &amp; Topics (</span><span style=\"color: #008000; text-decoration-color: #008000; font-weight: bold\">4</span><span style=\"color: #008000; text-decoration-color: #008000; font-weight: bold\"> found):</span>\n",
       "</pre>\n"
      ],
      "text/plain": [
       "\n",
       "\u001b[1;32m🧠 Concepts & Topics \u001b[0m\u001b[1;32m(\u001b[0m\u001b[1;32m4\u001b[0m\u001b[1;32m found\u001b[0m\u001b[1;32m)\u001b[0m\u001b[1;32m:\u001b[0m\n"
      ]
     },
     "metadata": {},
     "output_type": "display_data"
    },
    {
     "data": {
      "text/html": [
       "<pre style=\"white-space:pre;overflow-x:auto;line-height:normal;font-family:Menlo,'DejaVu Sans Mono',consolas,'Courier New',monospace\">┏━━━━━━━━━━━━━━━━━━━━━━━┳━━━━━━━━━━━━┳━━━━━━━━━━━━━━━━━━━━━━━━━━━━━━━━━━━━━━━━━━━━━━━━┳━━━━━━━━━━━━━━━━━━━━━━━━━━━┓\n",
       "┃<span style=\"color: #008000; text-decoration-color: #008000; font-weight: bold\"> Concept               </span>┃<span style=\"color: #008000; text-decoration-color: #008000; font-weight: bold\"> Field      </span>┃<span style=\"color: #008000; text-decoration-color: #008000; font-weight: bold\"> Description                                    </span>┃<span style=\"color: #008000; text-decoration-color: #008000; font-weight: bold\"> Related                   </span>┃\n",
       "┡━━━━━━━━━━━━━━━━━━━━━━━╇━━━━━━━━━━━━╇━━━━━━━━━━━━━━━━━━━━━━━━━━━━━━━━━━━━━━━━━━━━━━━━╇━━━━━━━━━━━━━━━━━━━━━━━━━━━┩\n",
       "│<span style=\"color: #008000; text-decoration-color: #008000\"> Information Horizon   </span>│<span style=\"color: #008080; text-decoration-color: #008080\"> UNKNOWN    </span>│<span style=\"color: #c0c0c0; text-decoration-color: #c0c0c0\"> the transformative nature of the information   </span>│<span style=\"color: #808000; text-decoration-color: #808000\">                           </span>│\n",
       "│<span style=\"color: #008000; text-decoration-color: #008000\">                       </span>│<span style=\"color: #008080; text-decoration-color: #008080\">            </span>│<span style=\"color: #c0c0c0; text-decoration-color: #c0c0c0\"> horiz...                                       </span>│<span style=\"color: #808000; text-decoration-color: #808000\">                           </span>│\n",
       "├───────────────────────┼────────────┼────────────────────────────────────────────────┼───────────────────────────┤\n",
       "│<span style=\"color: #008000; text-decoration-color: #008000\"> Literacy              </span>│<span style=\"color: #008080; text-decoration-color: #008080\"> UNKNOWN    </span>│<span style=\"color: #c0c0c0; text-decoration-color: #c0c0c0\"> the impact of writing on human thought and the </span>│<span style=\"color: #808000; text-decoration-color: #808000\">                           </span>│\n",
       "│<span style=\"color: #008000; text-decoration-color: #008000\">                       </span>│<span style=\"color: #008080; text-decoration-color: #008080\">            </span>│<span style=\"color: #c0c0c0; text-decoration-color: #c0c0c0\"> ris...                                         </span>│<span style=\"color: #808000; text-decoration-color: #808000\">                           </span>│\n",
       "├───────────────────────┼────────────┼────────────────────────────────────────────────┼───────────────────────────┤\n",
       "│<span style=\"color: #008000; text-decoration-color: #008000\"> Philosophy of         </span>│<span style=\"color: #008080; text-decoration-color: #008080\"> UNKNOWN    </span>│<span style=\"color: #c0c0c0; text-decoration-color: #c0c0c0\"> the relationship between language, thought,    </span>│<span style=\"color: #808000; text-decoration-color: #808000\">                           </span>│\n",
       "│<span style=\"color: #008000; text-decoration-color: #008000\"> Language              </span>│<span style=\"color: #008080; text-decoration-color: #008080\">            </span>│<span style=\"color: #c0c0c0; text-decoration-color: #c0c0c0\"> and th...                                      </span>│<span style=\"color: #808000; text-decoration-color: #808000\">                           </span>│\n",
       "├───────────────────────┼────────────┼────────────────────────────────────────────────┼───────────────────────────┤\n",
       "│<span style=\"color: #008000; text-decoration-color: #008000\"> Philosophy of         </span>│<span style=\"color: #008080; text-decoration-color: #008080\"> UNKNOWN    </span>│<span style=\"color: #c0c0c0; text-decoration-color: #c0c0c0\"> the impact of writing as a technology on human </span>│<span style=\"color: #808000; text-decoration-color: #808000\">                           </span>│\n",
       "│<span style=\"color: #008000; text-decoration-color: #008000\"> Technology            </span>│<span style=\"color: #008080; text-decoration-color: #008080\">            </span>│<span style=\"color: #c0c0c0; text-decoration-color: #c0c0c0\"> soc...                                         </span>│<span style=\"color: #808000; text-decoration-color: #808000\">                           </span>│\n",
       "└───────────────────────┴────────────┴────────────────────────────────────────────────┴───────────────────────────┘\n",
       "</pre>\n"
      ],
      "text/plain": [
       "┏━━━━━━━━━━━━━━━━━━━━━━━┳━━━━━━━━━━━━┳━━━━━━━━━━━━━━━━━━━━━━━━━━━━━━━━━━━━━━━━━━━━━━━━┳━━━━━━━━━━━━━━━━━━━━━━━━━━━┓\n",
       "┃\u001b[1;32m \u001b[0m\u001b[1;32mConcept              \u001b[0m\u001b[1;32m \u001b[0m┃\u001b[1;32m \u001b[0m\u001b[1;32mField     \u001b[0m\u001b[1;32m \u001b[0m┃\u001b[1;32m \u001b[0m\u001b[1;32mDescription                                   \u001b[0m\u001b[1;32m \u001b[0m┃\u001b[1;32m \u001b[0m\u001b[1;32mRelated                  \u001b[0m\u001b[1;32m \u001b[0m┃\n",
       "┡━━━━━━━━━━━━━━━━━━━━━━━╇━━━━━━━━━━━━╇━━━━━━━━━━━━━━━━━━━━━━━━━━━━━━━━━━━━━━━━━━━━━━━━╇━━━━━━━━━━━━━━━━━━━━━━━━━━━┩\n",
       "│\u001b[32m \u001b[0m\u001b[32mInformation Horizon  \u001b[0m\u001b[32m \u001b[0m│\u001b[36m \u001b[0m\u001b[36mUNKNOWN   \u001b[0m\u001b[36m \u001b[0m│\u001b[37m \u001b[0m\u001b[37mthe transformative nature of the information  \u001b[0m\u001b[37m \u001b[0m│\u001b[33m \u001b[0m\u001b[33m                         \u001b[0m\u001b[33m \u001b[0m│\n",
       "│\u001b[32m                       \u001b[0m│\u001b[36m            \u001b[0m│\u001b[37m \u001b[0m\u001b[37mhoriz...                                      \u001b[0m\u001b[37m \u001b[0m│\u001b[33m                           \u001b[0m│\n",
       "├───────────────────────┼────────────┼────────────────────────────────────────────────┼───────────────────────────┤\n",
       "│\u001b[32m \u001b[0m\u001b[32mLiteracy             \u001b[0m\u001b[32m \u001b[0m│\u001b[36m \u001b[0m\u001b[36mUNKNOWN   \u001b[0m\u001b[36m \u001b[0m│\u001b[37m \u001b[0m\u001b[37mthe impact of writing on human thought and the\u001b[0m\u001b[37m \u001b[0m│\u001b[33m \u001b[0m\u001b[33m                         \u001b[0m\u001b[33m \u001b[0m│\n",
       "│\u001b[32m                       \u001b[0m│\u001b[36m            \u001b[0m│\u001b[37m \u001b[0m\u001b[37mris...                                        \u001b[0m\u001b[37m \u001b[0m│\u001b[33m                           \u001b[0m│\n",
       "├───────────────────────┼────────────┼────────────────────────────────────────────────┼───────────────────────────┤\n",
       "│\u001b[32m \u001b[0m\u001b[32mPhilosophy of        \u001b[0m\u001b[32m \u001b[0m│\u001b[36m \u001b[0m\u001b[36mUNKNOWN   \u001b[0m\u001b[36m \u001b[0m│\u001b[37m \u001b[0m\u001b[37mthe relationship between language, thought,   \u001b[0m\u001b[37m \u001b[0m│\u001b[33m \u001b[0m\u001b[33m                         \u001b[0m\u001b[33m \u001b[0m│\n",
       "│\u001b[32m \u001b[0m\u001b[32mLanguage             \u001b[0m\u001b[32m \u001b[0m│\u001b[36m            \u001b[0m│\u001b[37m \u001b[0m\u001b[37mand th...                                     \u001b[0m\u001b[37m \u001b[0m│\u001b[33m                           \u001b[0m│\n",
       "├───────────────────────┼────────────┼────────────────────────────────────────────────┼───────────────────────────┤\n",
       "│\u001b[32m \u001b[0m\u001b[32mPhilosophy of        \u001b[0m\u001b[32m \u001b[0m│\u001b[36m \u001b[0m\u001b[36mUNKNOWN   \u001b[0m\u001b[36m \u001b[0m│\u001b[37m \u001b[0m\u001b[37mthe impact of writing as a technology on human\u001b[0m\u001b[37m \u001b[0m│\u001b[33m \u001b[0m\u001b[33m                         \u001b[0m\u001b[33m \u001b[0m│\n",
       "│\u001b[32m \u001b[0m\u001b[32mTechnology           \u001b[0m\u001b[32m \u001b[0m│\u001b[36m            \u001b[0m│\u001b[37m \u001b[0m\u001b[37msoc...                                        \u001b[0m\u001b[37m \u001b[0m│\u001b[33m                           \u001b[0m│\n",
       "└───────────────────────┴────────────┴────────────────────────────────────────────────┴───────────────────────────┘\n"
      ]
     },
     "metadata": {},
     "output_type": "display_data"
    },
    {
     "data": {
      "text/html": [
       "<pre style=\"white-space:pre;overflow-x:auto;line-height:normal;font-family:Menlo,'DejaVu Sans Mono',consolas,'Courier New',monospace\"><span style=\"color: #808000; text-decoration-color: #808000\">╭────────────────────────────────────────────── </span><span style=\"color: #808000; text-decoration-color: #808000; font-weight: bold\">Historical Context</span><span style=\"color: #808000; text-decoration-color: #808000\"> ───────────────────────────────────────────────╮</span>\n",
       "<span style=\"color: #808000; text-decoration-color: #808000\">│</span> <span style=\"color: #808000; text-decoration-color: #808000; font-weight: bold\">Temporal Context:</span>                                                                                               <span style=\"color: #808000; text-decoration-color: #808000\">│</span>\n",
       "<span style=\"color: #808000; text-decoration-color: #808000\">│</span> Time Periods: Ancient Greece, Modern Era                                                                        <span style=\"color: #808000; text-decoration-color: #808000\">│</span>\n",
       "<span style=\"color: #808000; text-decoration-color: #808000\">│</span>                                                                                                                 <span style=\"color: #808000; text-decoration-color: #808000\">│</span>\n",
       "<span style=\"color: #808000; text-decoration-color: #808000\">│</span> <span style=\"color: #808000; text-decoration-color: #808000; font-weight: bold\">Geographic Context:</span>                                                                                             <span style=\"color: #808000; text-decoration-color: #808000\">│</span>\n",
       "<span style=\"color: #808000; text-decoration-color: #808000\">│</span> Locations: Ancient Greece, Modern Era                                                                           <span style=\"color: #808000; text-decoration-color: #808000\">│</span>\n",
       "<span style=\"color: #808000; text-decoration-color: #808000\">╰─────────────────────────────────────────────────────────────────────────────────────────────────────────────────╯</span>\n",
       "</pre>\n"
      ],
      "text/plain": [
       "\u001b[33m╭─\u001b[0m\u001b[33m─────────────────────────────────────────────\u001b[0m\u001b[33m \u001b[0m\u001b[1;33mHistorical Context\u001b[0m\u001b[33m \u001b[0m\u001b[33m──────────────────────────────────────────────\u001b[0m\u001b[33m─╮\u001b[0m\n",
       "\u001b[33m│\u001b[0m \u001b[1;33mTemporal Context:\u001b[0m                                                                                               \u001b[33m│\u001b[0m\n",
       "\u001b[33m│\u001b[0m Time Periods: Ancient Greece, Modern Era                                                                        \u001b[33m│\u001b[0m\n",
       "\u001b[33m│\u001b[0m                                                                                                                 \u001b[33m│\u001b[0m\n",
       "\u001b[33m│\u001b[0m \u001b[1;33mGeographic Context:\u001b[0m                                                                                             \u001b[33m│\u001b[0m\n",
       "\u001b[33m│\u001b[0m Locations: Ancient Greece, Modern Era                                                                           \u001b[33m│\u001b[0m\n",
       "\u001b[33m╰─────────────────────────────────────────────────────────────────────────────────────────────────────────────────╯\u001b[0m\n"
      ]
     },
     "metadata": {},
     "output_type": "display_data"
    },
    {
     "data": {
      "text/html": [
       "<pre style=\"white-space:pre;overflow-x:auto;line-height:normal;font-family:Menlo,'DejaVu Sans Mono',consolas,'Courier New',monospace\"><span style=\"color: #800000; text-decoration-color: #800000\">╭────────────────────────────────────────────────── </span><span style=\"color: #800000; text-decoration-color: #800000; font-weight: bold\">Key Debates</span><span style=\"color: #800000; text-decoration-color: #800000\"> ──────────────────────────────────────────────────╮</span>\n",
       "<span style=\"color: #800000; text-decoration-color: #800000\">│</span> • The impact of writing on human thought and society                                                            <span style=\"color: #800000; text-decoration-color: #800000\">│</span>\n",
       "<span style=\"color: #800000; text-decoration-color: #800000\">│</span> • The relationship between language, thought, and the human mind                                                <span style=\"color: #800000; text-decoration-color: #800000\">│</span>\n",
       "<span style=\"color: #800000; text-decoration-color: #800000\">│</span> • The role of technology in shaping human culture and society                                                   <span style=\"color: #800000; text-decoration-color: #800000\">│</span>\n",
       "<span style=\"color: #800000; text-decoration-color: #800000\">╰─────────────────────────────────────────────────────────────────────────────────────────────────────────────────╯</span>\n",
       "</pre>\n"
      ],
      "text/plain": [
       "\u001b[31m╭─\u001b[0m\u001b[31m─────────────────────────────────────────────────\u001b[0m\u001b[31m \u001b[0m\u001b[1;31mKey Debates\u001b[0m\u001b[31m \u001b[0m\u001b[31m─────────────────────────────────────────────────\u001b[0m\u001b[31m─╮\u001b[0m\n",
       "\u001b[31m│\u001b[0m • The impact of writing on human thought and society                                                            \u001b[31m│\u001b[0m\n",
       "\u001b[31m│\u001b[0m • The relationship between language, thought, and the human mind                                                \u001b[31m│\u001b[0m\n",
       "\u001b[31m│\u001b[0m • The role of technology in shaping human culture and society                                                   \u001b[31m│\u001b[0m\n",
       "\u001b[31m╰─────────────────────────────────────────────────────────────────────────────────────────────────────────────────╯\u001b[0m\n"
      ]
     },
     "metadata": {},
     "output_type": "display_data"
    },
    {
     "name": "stdout",
     "output_type": "stream",
     "text": [
      "\n",
      "Analysis completed!\n"
     ]
    }
   ],
   "source": [
    "# Analyze the text\n",
    "print(\"\\n\" + \"=\"*60)\n",
    "print(\"ANALYZING PAGE 20 FROM GLEICK 2011\")\n",
    "print(\"=\"*60)\n",
    "\n",
    "result = analyzer.analyze_chapter(\n",
    "    text=page_20_content,\n",
    "    format_output=True,  # This will print the nice formatted output\n",
    "    use_chunking=False   # Page 20 is probably short enough\n",
    ")\n",
    "\n",
    "print(\"\\nAnalysis completed!\")"
   ]
  },
  {
   "cell_type": "code",
   "execution_count": 8,
   "metadata": {},
   "outputs": [
    {
     "name": "stdout",
     "output_type": "stream",
     "text": [
      "\n",
      "========================================\n",
      "EXTRACTED INFORMATION SUMMARY\n",
      "========================================\n",
      "\n",
      "Authors found: 4\n",
      "  - W.J.T. Ong (HISTORIAN, not specified)\n",
      "  - Jonathan Miller (PHILOSOPHER, not specified)\n",
      "  - Plato (PHILOSOPHER, not specified)\n",
      "  - Socrates (PHILOSOPHER, not specified)\n",
      "\n",
      "Works found: 3\n",
      "  - The Information by W.J.T. Ong (UNKNOWN)\n",
      "  - no specific title mentioned by Jonathan Miller (UNKNOWN)\n",
      "  - The Republic by Plato (UNKNOWN)\n",
      "\n",
      "Topics found: 4\n",
      "  - Information Horizon (UNKNOWN)\n",
      "  - Literacy (UNKNOWN)\n",
      "  - Philosophy of Language (UNKNOWN)\n",
      "  - Philosophy of Technology (UNKNOWN)\n",
      "\n",
      "Time periods: ['Ancient Greece', 'Modern Era']\n",
      "Locations: ['Ancient Greece', 'Modern Era']\n"
     ]
    }
   ],
   "source": [
    "# Access specific results programmatically\n",
    "print(\"\\n\" + \"=\"*40)\n",
    "print(\"EXTRACTED INFORMATION SUMMARY\")\n",
    "print(\"=\"*40)\n",
    "\n",
    "print(f\"\\nAuthors found: {len(result.authors)}\")\n",
    "for author in result.authors:\n",
    "    print(f\"  - {author.name} ({author.role.value}, {author.time_period})\")\n",
    "\n",
    "print(f\"\\nWorks found: {len(result.works)}\")\n",
    "for work in result.works:\n",
    "    print(f\"  - {work.title} by {work.author} ({work.work_type.value})\")\n",
    "\n",
    "print(f\"\\nTopics found: {len(result.topics)}\")\n",
    "for topic in result.topics:\n",
    "    print(f\"  - {topic.name} ({topic.field.value})\")\n",
    "\n",
    "print(f\"\\nTime periods: {result.time_periods_covered}\")\n",
    "print(f\"Locations: {result.geographical_locations}\")"
   ]
  },
  {
   "cell_type": "code",
   "execution_count": 9,
   "metadata": {},
   "outputs": [
    {
     "name": "stdout",
     "output_type": "stream",
     "text": [
      "Combined text length: 6328 characters\n",
      "Word count: approximately 1023 words\n",
      "\n",
      "[yellow]Text is long - will use chunking...[/]\n"
     ]
    },
    {
     "data": {
      "text/html": [
       "<pre style=\"white-space:pre;overflow-x:auto;line-height:normal;font-family:Menlo,'DejaVu Sans Mono',consolas,'Courier New',monospace\"><span style=\"color: #808000; text-decoration-color: #808000\">Text is long </span><span style=\"color: #808000; text-decoration-color: #808000; font-weight: bold\">(</span><span style=\"color: #808000; text-decoration-color: #808000; font-weight: bold\">1023</span><span style=\"color: #808000; text-decoration-color: #808000\"> words</span><span style=\"color: #808000; text-decoration-color: #808000; font-weight: bold\">)</span><span style=\"color: #808000; text-decoration-color: #808000\">. Processing in chunks...</span>\n",
       "</pre>\n"
      ],
      "text/plain": [
       "\u001b[33mText is long \u001b[0m\u001b[1;33m(\u001b[0m\u001b[1;33m1023\u001b[0m\u001b[33m words\u001b[0m\u001b[1;33m)\u001b[0m\u001b[33m. Processing in chunks\u001b[0m\u001b[33m...\u001b[0m\n"
      ]
     },
     "metadata": {},
     "output_type": "display_data"
    },
    {
     "data": {
      "text/html": [
       "<pre style=\"white-space:pre;overflow-x:auto;line-height:normal;font-family:Menlo,'DejaVu Sans Mono',consolas,'Courier New',monospace\"><span style=\"color: #008080; text-decoration-color: #008080\">Processing chunk </span><span style=\"color: #008080; text-decoration-color: #008080; font-weight: bold\">1</span><span style=\"color: #008080; text-decoration-color: #008080\">/</span><span style=\"color: #008080; text-decoration-color: #008080; font-weight: bold\">4</span><span style=\"color: #008080; text-decoration-color: #008080\">...</span>\n",
       "</pre>\n"
      ],
      "text/plain": [
       "\u001b[36mProcessing chunk \u001b[0m\u001b[1;36m1\u001b[0m\u001b[36m/\u001b[0m\u001b[1;36m4\u001b[0m\u001b[36m...\u001b[0m\n"
      ]
     },
     "metadata": {},
     "output_type": "display_data"
    },
    {
     "name": "stderr",
     "output_type": "stream",
     "text": [
      "The following generation flags are not valid and may be ignored: ['temperature']. Set `TRANSFORMERS_VERBOSITY=info` for more details.\n",
      "The following generation flags are not valid and may be ignored: ['temperature']. Set `TRANSFORMERS_VERBOSITY=info` for more details.\n"
     ]
    },
    {
     "ename": "ValidationError",
     "evalue": "1 validation error for ChapterAnalysis\ncomplexity_score\n  Input should be less than or equal to 1 [type=less_than_equal, input_value=8, input_type=int]\n    For further information visit https://errors.pydantic.dev/2.11/v/less_than_equal",
     "output_type": "error",
     "traceback": [
      "\u001b[31m---------------------------------------------------------------------------\u001b[39m",
      "\u001b[31mValidationError\u001b[39m                           Traceback (most recent call last)",
      "\u001b[36mCell\u001b[39m\u001b[36m \u001b[39m\u001b[32mIn[9]\u001b[39m\u001b[32m, line 18\u001b[39m\n\u001b[32m     15\u001b[39m     \u001b[38;5;28mprint\u001b[39m(\u001b[33m\"\u001b[39m\u001b[38;5;130;01m\\n\u001b[39;00m\u001b[33m[yellow]Text is long - will use chunking...[/]\u001b[39m\u001b[33m\"\u001b[39m)\n\u001b[32m     17\u001b[39m     \u001b[38;5;66;03m# Analyze with chunking enabled\u001b[39;00m\n\u001b[32m---> \u001b[39m\u001b[32m18\u001b[39m     combined_result = analyzer.analyze_chapter(\n\u001b[32m     19\u001b[39m         text=combined_text,\n\u001b[32m     20\u001b[39m         format_output=\u001b[38;5;28;01mTrue\u001b[39;00m,\n\u001b[32m     21\u001b[39m         use_chunking=\u001b[38;5;28;01mTrue\u001b[39;00m\n\u001b[32m     22\u001b[39m     )\n\u001b[32m     23\u001b[39m \u001b[38;5;28;01melse\u001b[39;00m:\n\u001b[32m     24\u001b[39m     \u001b[38;5;28mprint\u001b[39m(\u001b[33m\"\u001b[39m\u001b[33mText is short enough for single analysis\u001b[39m\u001b[33m\"\u001b[39m)\n",
      "\u001b[36mFile \u001b[39m\u001b[32m/gpfs1/home/j/s/jstonge1/hps-llm-parser/hps_analyzer.py:405\u001b[39m, in \u001b[36mHPSAnalyzer.analyze_chapter\u001b[39m\u001b[34m(self, text, format_output, use_chunking)\u001b[39m\n\u001b[32m    403\u001b[39m     \u001b[38;5;28mprint\u001b[39m(\u001b[33mf\u001b[39m\u001b[33m\"\u001b[39m\u001b[33m[cyan]Processing chunk \u001b[39m\u001b[38;5;132;01m{\u001b[39;00mi+\u001b[32m1\u001b[39m\u001b[38;5;132;01m}\u001b[39;00m\u001b[33m/\u001b[39m\u001b[38;5;132;01m{\u001b[39;00m\u001b[38;5;28mlen\u001b[39m(chunks)\u001b[38;5;132;01m}\u001b[39;00m\u001b[33m...[/]\u001b[39m\u001b[33m\"\u001b[39m)\n\u001b[32m    404\u001b[39m     prompt = \u001b[38;5;28mself\u001b[39m._to_prompt(chunk)\n\u001b[32m--> \u001b[39m\u001b[32m405\u001b[39m     analysis = \u001b[38;5;28mself\u001b[39m.analyzer(prompt, max_tokens=\u001b[38;5;28mself\u001b[39m.token_max)\n\u001b[32m    406\u001b[39m     all_analyses.append(analysis)\n\u001b[32m    408\u001b[39m \u001b[38;5;66;03m# Combine analyses (simplified - just merge lists)\u001b[39;00m\n",
      "\u001b[36mFile \u001b[39m\u001b[32m~/.conda/envs/llama_setup/lib/python3.13/site-packages/outlines/generate/api.py:498\u001b[39m, in \u001b[36mSequenceGeneratorAdapter.__call__\u001b[39m\u001b[34m(self, prompts, max_tokens, stop_at, seed, **model_specific_params)\u001b[39m\n\u001b[32m    486\u001b[39m generation_params = \u001b[38;5;28mself\u001b[39m.prepare_generation_parameters(\n\u001b[32m    487\u001b[39m     max_tokens, stop_at, seed\n\u001b[32m    488\u001b[39m )\n\u001b[32m    490\u001b[39m completions = \u001b[38;5;28mself\u001b[39m.model.generate(\n\u001b[32m    491\u001b[39m     prompts,\n\u001b[32m    492\u001b[39m     generation_params,\n\u001b[32m   (...)\u001b[39m\u001b[32m    495\u001b[39m     **model_specific_params,\n\u001b[32m    496\u001b[39m )\n\u001b[32m--> \u001b[39m\u001b[32m498\u001b[39m \u001b[38;5;28;01mreturn\u001b[39;00m \u001b[38;5;28mself\u001b[39m._format(completions)\n",
      "\u001b[36mFile \u001b[39m\u001b[32m~/.conda/envs/llama_setup/lib/python3.13/site-packages/outlines/generate/api.py:474\u001b[39m, in \u001b[36mSequenceGeneratorAdapter._format\u001b[39m\u001b[34m(self, sequences)\u001b[39m\n\u001b[32m    472\u001b[39m     \u001b[38;5;28;01mreturn\u001b[39;00m [\u001b[38;5;28mself\u001b[39m._format(sequence) \u001b[38;5;28;01mfor\u001b[39;00m sequence \u001b[38;5;129;01min\u001b[39;00m sequences]\n\u001b[32m    473\u001b[39m \u001b[38;5;28;01melse\u001b[39;00m:\n\u001b[32m--> \u001b[39m\u001b[32m474\u001b[39m     \u001b[38;5;28;01mreturn\u001b[39;00m \u001b[38;5;28mself\u001b[39m.format_sequence(sequences)\n",
      "\u001b[36mFile \u001b[39m\u001b[32m~/.conda/envs/llama_setup/lib/python3.13/site-packages/outlines/generate/json.py:53\u001b[39m, in \u001b[36mjson.<locals>.<lambda>\u001b[39m\u001b[34m(x)\u001b[39m\n\u001b[32m     51\u001b[39m     regex_str = build_regex_from_schema(schema, whitespace_pattern)\n\u001b[32m     52\u001b[39m     generator = regex(model, regex_str, sampler)\n\u001b[32m---> \u001b[39m\u001b[32m53\u001b[39m     generator.format_sequence = \u001b[38;5;28;01mlambda\u001b[39;00m x: schema_object.parse_raw(x)\n\u001b[32m     54\u001b[39m \u001b[38;5;28;01melif\u001b[39;00m \u001b[38;5;28misinstance\u001b[39m(schema_object, \u001b[38;5;28mtype\u001b[39m(Enum)):\n\u001b[32m     55\u001b[39m     schema = pyjson.dumps(get_schema_from_enum(schema_object))\n",
      "\u001b[36mFile \u001b[39m\u001b[32m~/.conda/envs/llama_setup/lib/python3.13/site-packages/pydantic/main.py:1389\u001b[39m, in \u001b[36mBaseModel.parse_raw\u001b[39m\u001b[34m(cls, b, content_type, encoding, proto, allow_pickle)\u001b[39m\n\u001b[32m   1382\u001b[39m     error: pydantic_core.InitErrorDetails = {\n\u001b[32m   1383\u001b[39m         \u001b[38;5;66;03m# The type: ignore on the next line is to ignore the requirement of LiteralString\u001b[39;00m\n\u001b[32m   1384\u001b[39m         \u001b[33m'\u001b[39m\u001b[33mtype\u001b[39m\u001b[33m'\u001b[39m: pydantic_core.PydanticCustomError(type_str, \u001b[38;5;28mstr\u001b[39m(exc)),  \u001b[38;5;66;03m# type: ignore\u001b[39;00m\n\u001b[32m   1385\u001b[39m         \u001b[33m'\u001b[39m\u001b[33mloc\u001b[39m\u001b[33m'\u001b[39m: (\u001b[33m'\u001b[39m\u001b[33m__root__\u001b[39m\u001b[33m'\u001b[39m,),\n\u001b[32m   1386\u001b[39m         \u001b[33m'\u001b[39m\u001b[33minput\u001b[39m\u001b[33m'\u001b[39m: b,\n\u001b[32m   1387\u001b[39m     }\n\u001b[32m   1388\u001b[39m     \u001b[38;5;28;01mraise\u001b[39;00m pydantic_core.ValidationError.from_exception_data(\u001b[38;5;28mcls\u001b[39m.\u001b[34m__name__\u001b[39m, [error])\n\u001b[32m-> \u001b[39m\u001b[32m1389\u001b[39m \u001b[38;5;28;01mreturn\u001b[39;00m \u001b[38;5;28mcls\u001b[39m.model_validate(obj)\n",
      "\u001b[36mFile \u001b[39m\u001b[32m~/.conda/envs/llama_setup/lib/python3.13/site-packages/pydantic/main.py:705\u001b[39m, in \u001b[36mBaseModel.model_validate\u001b[39m\u001b[34m(cls, obj, strict, from_attributes, context, by_alias, by_name)\u001b[39m\n\u001b[32m    699\u001b[39m \u001b[38;5;28;01mif\u001b[39;00m by_alias \u001b[38;5;129;01mis\u001b[39;00m \u001b[38;5;28;01mFalse\u001b[39;00m \u001b[38;5;129;01mand\u001b[39;00m by_name \u001b[38;5;129;01mis\u001b[39;00m \u001b[38;5;129;01mnot\u001b[39;00m \u001b[38;5;28;01mTrue\u001b[39;00m:\n\u001b[32m    700\u001b[39m     \u001b[38;5;28;01mraise\u001b[39;00m PydanticUserError(\n\u001b[32m    701\u001b[39m         \u001b[33m'\u001b[39m\u001b[33mAt least one of `by_alias` or `by_name` must be set to True.\u001b[39m\u001b[33m'\u001b[39m,\n\u001b[32m    702\u001b[39m         code=\u001b[33m'\u001b[39m\u001b[33mvalidate-by-alias-and-name-false\u001b[39m\u001b[33m'\u001b[39m,\n\u001b[32m    703\u001b[39m     )\n\u001b[32m--> \u001b[39m\u001b[32m705\u001b[39m \u001b[38;5;28;01mreturn\u001b[39;00m \u001b[38;5;28mcls\u001b[39m.__pydantic_validator__.validate_python(\n\u001b[32m    706\u001b[39m     obj, strict=strict, from_attributes=from_attributes, context=context, by_alias=by_alias, by_name=by_name\n\u001b[32m    707\u001b[39m )\n",
      "\u001b[31mValidationError\u001b[39m: 1 validation error for ChapterAnalysis\ncomplexity_score\n  Input should be less than or equal to 1 [type=less_than_equal, input_value=8, input_type=int]\n    For further information visit https://errors.pydantic.dev/2.11/v/less_than_equal"
     ]
    }
   ],
   "source": [
    "# Test with multiple pages (if you want to try a longer text)\n",
    "# Load and combine multiple pages\n",
    "combined_text = \"\"\n",
    "pages_to_combine = [\"20.md\", \"21.md\"]  # Add more pages as needed\n",
    "\n",
    "for page_file in pages_to_combine:\n",
    "    if (DATA_DIR / page_file).exists():\n",
    "        with open(DATA_DIR / page_file, 'r', encoding='utf-8') as f:\n",
    "            combined_text += f\"\\n\\n=== PAGE {page_file} ===\\n\\n\" + f.read()\n",
    "\n",
    "print(f\"Combined text length: {len(combined_text)} characters\")\n",
    "print(f\"Word count: approximately {len(combined_text.split())} words\")\n",
    "\n",
    "if len(combined_text.split()) > 500:\n",
    "    print(\"\\n[yellow]Text is long - will use chunking...[/]\")\n",
    "    \n",
    "    # Analyze with chunking enabled\n",
    "    combined_result = analyzer.analyze_chapter(\n",
    "        text=combined_text,\n",
    "        format_output=True,\n",
    "        use_chunking=True\n",
    "    )\n",
    "else:\n",
    "    print(\"Text is short enough for single analysis\")\n",
    "    combined_result = analyzer.analyze_chapter(combined_text)"
   ]
  },
  {
   "cell_type": "code",
   "execution_count": null,
   "metadata": {},
   "outputs": [],
   "source": [
    "# Export results to JSON for further processing\n",
    "import json\n",
    "\n",
    "# Convert result to dict and save\n",
    "result_dict = result.model_dump()\n",
    "\n",
    "with open(\"hps_analysis_page20.json\", \"w\", encoding=\"utf-8\") as f:\n",
    "    json.dump(result_dict, f, indent=2, ensure_ascii=False)\n",
    "\n",
    "print(\"Results saved to 'hps_analysis_page20.json'\")\n",
    "print(f\"\\nAnalysis contains:\")\n",
    "print(f\"  - {len(result.authors)} authors\")\n",
    "print(f\"  - {len(result.works)} works\")\n",
    "print(f\"  - {len(result.topics)} topics\")\n",
    "print(f\"  - Complexity score: {result.complexity_score:.2f}\")"
   ]
  }
 ],
 "metadata": {
  "kernelspec": {
   "display_name": "Python 3",
   "language": "python",
   "name": "python3"
  },
  "language_info": {
   "codemirror_mode": {
    "name": "ipython",
    "version": 3
   },
   "file_extension": ".py",
   "mimetype": "text/x-python",
   "name": "python",
   "nbconvert_exporter": "python",
   "pygments_lexer": "ipython3",
   "version": "3.13.5"
  }
 },
 "nbformat": 4,
 "nbformat_minor": 4
}
